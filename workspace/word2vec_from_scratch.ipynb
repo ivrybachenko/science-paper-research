{
 "cells": [
  {
   "cell_type": "markdown",
   "id": "39317335",
   "metadata": {},
   "source": [
    "Туториал https://towardsdatascience.com/word2vec-from-scratch-with-numpy-8786ddd49e72"
   ]
  },
  {
   "cell_type": "markdown",
   "id": "e0914238",
   "metadata": {},
   "source": [
    "# Нормализуем текст, чтобы его лекго было разбить на слова"
   ]
  },
  {
   "cell_type": "code",
   "execution_count": 74,
   "id": "d8fd7937",
   "metadata": {},
   "outputs": [
    {
     "data": {
      "text/plain": [
       "'after the deduction of the costs of investing beating the stock market is a loser’s game'"
      ]
     },
     "execution_count": 74,
     "metadata": {},
     "output_type": "execute_result"
    }
   ],
   "source": [
    "import string\n",
    "import numpy as np\n",
    "\n",
    "text = 'After the deduction of the costs of investing, beating the stock market is a loser’s game.'\n",
    "\n",
    "def preprocess_text(s):\n",
    "    return s.lower().translate(str.maketrans('', '', string.punctuation))\n",
    "\n",
    "text = preprocess_text(text)\n",
    "text"
   ]
  },
  {
   "cell_type": "markdown",
   "id": "24b4e419",
   "metadata": {},
   "source": [
    "# Генерируем обучающие данные"
   ]
  },
  {
   "cell_type": "code",
   "execution_count": 43,
   "id": "d36f4411",
   "metadata": {},
   "outputs": [
    {
     "data": {
      "text/plain": [
       "[('costs', 'after'),\n",
       " ('costs', 'the'),\n",
       " ('costs', 'deduction'),\n",
       " ('costs', 'of'),\n",
       " ('costs', 'the'),\n",
       " ('costs', 'of'),\n",
       " ('costs', 'investing'),\n",
       " ('costs', 'beating'),\n",
       " ('costs', 'the'),\n",
       " ('costs', 'stock')]"
      ]
     },
     "execution_count": 43,
     "metadata": {},
     "output_type": "execute_result"
    }
   ],
   "source": [
    "def is_window_out_of_range(text, window_center, window_size):\n",
    "    return window_center < window_size or window_center + window_size >= len(text)\n",
    "\n",
    "def get_window(text, window_center, window_size):\n",
    "    if is_window_out_of_range(text, window_center, window_size):\n",
    "        raise ValueError('window out of range')\n",
    "    return [(text[window_center], text[i]) for i in range(window_center-window_size, window_center+window_size+1) if i!=window_center]\n",
    "\n",
    "def generate_training_data(text, window_size):\n",
    "    return [get_window(text, i, window_size) for i in range(len(text)) if not is_window_out_of_range(text, i, window_size)]\n",
    "    \n",
    "training_data = generate_training_data(text.split(), 5)\n",
    "training_data[0]"
   ]
  },
  {
   "cell_type": "markdown",
   "id": "faa43159",
   "metadata": {},
   "source": [
    "# Инициализируем модель"
   ]
  },
  {
   "cell_type": "code",
   "execution_count": 56,
   "id": "8e0b1711",
   "metadata": {},
   "outputs": [
    {
     "data": {
      "text/plain": [
       "array([[0.69388698, 0.73742935, 0.69798044],\n",
       "       [0.18304424, 0.37327225, 0.69995864],\n",
       "       [0.83417978, 0.12099023, 0.63048464],\n",
       "       [0.53263056, 0.30788734, 0.15992509],\n",
       "       [0.99710519, 0.07411334, 0.11812715],\n",
       "       [0.71773656, 0.41104157, 0.09350483],\n",
       "       [0.56515052, 0.24317991, 0.33192345],\n",
       "       [0.03015776, 0.56734375, 0.15828918],\n",
       "       [0.08361993, 0.04738956, 0.70153531],\n",
       "       [0.23606822, 0.74651537, 0.96474563],\n",
       "       [0.02305037, 0.29269734, 0.75891743],\n",
       "       [0.89448726, 0.08299992, 0.61331541],\n",
       "       [0.58317863, 0.90167942, 0.56439279]])"
      ]
     },
     "execution_count": 56,
     "metadata": {},
     "output_type": "execute_result"
    }
   ],
   "source": [
    "vocabulary = list(set(text.split()))\n",
    "vocab_size = len(vocabulary)\n",
    "emb_size = 3\n",
    "\n",
    "word_emb = np.random.rand(vocab_size, emb_size)\n",
    "dense = np.random.rand(vocab_size, emb_size)\n",
    "dense"
   ]
  },
  {
   "cell_type": "markdown",
   "id": "7bc965f4",
   "metadata": {},
   "source": [
    "# Forward propagation"
   ]
  },
  {
   "cell_type": "code",
   "execution_count": 92,
   "id": "2de7c3d3",
   "metadata": {},
   "outputs": [
    {
     "data": {
      "text/plain": [
       "0.19730379672781054"
      ]
     },
     "execution_count": 92,
     "metadata": {},
     "output_type": "execute_result"
    }
   ],
   "source": [
    "def forward(word):\n",
    "    emb = np.array(word_emb[vocabulary.index(word)]).reshape(-1,1)\n",
    "    res = np.dot(dense, emb)\n",
    "    res = np.exp(res)\n",
    "    res = res / res.sum()\n",
    "    return res\n",
    "\n",
    "def interpretate(vec):\n",
    "    vec = [(i, x) for i, [x] in enumerate(vec)]\n",
    "    vec.sort(key=lambda x: x[1], reverse=True)\n",
    "    return [(vocabulary[i], p) for i, p in vec]\n",
    "\n",
    "def loss(vec):\n",
    "    a = np.log(vec.mean())\n",
    "    vec = vec * a\n",
    "    return -1/vec.shape[0]*vec.sum()\n",
    "\n",
    "interpretate(forward('the'))\n",
    "loss(forward('the'))"
   ]
  },
  {
   "cell_type": "markdown",
   "id": "ec7a2688",
   "metadata": {},
   "source": [
    "# Backward propagation"
   ]
  }
 ],
 "metadata": {
  "kernelspec": {
   "display_name": "Python 3 (ipykernel)",
   "language": "python",
   "name": "python3"
  },
  "language_info": {
   "codemirror_mode": {
    "name": "ipython",
    "version": 3
   },
   "file_extension": ".py",
   "mimetype": "text/x-python",
   "name": "python",
   "nbconvert_exporter": "python",
   "pygments_lexer": "ipython3",
   "version": "3.10.4"
  }
 },
 "nbformat": 4,
 "nbformat_minor": 5
}
